{
 "cells": [
  {
   "cell_type": "markdown",
   "metadata": {},
   "source": [
    "# Overview\n",
    "\n",
    "* Hour 1\n",
    "  * Nested Loops\n",
    "  * Strings\n",
    "* Hour 2\n",
    "  * Functions\n",
    "* Hour 3\n",
    "  * Graded Lab"
   ]
  },
  {
   "cell_type": "markdown",
   "metadata": {},
   "source": [
    "# Nested Loop\n",
    "* We can have loops inside of loops"
   ]
  },
  {
   "cell_type": "code",
   "execution_count": null,
   "metadata": {
    "collapsed": true,
    "scrolled": true
   },
   "outputs": [],
   "source": [
    "# This program displays a rectangular pattern of asterisks"
   ]
  },
  {
   "cell_type": "code",
   "execution_count": null,
   "metadata": {
    "collapsed": true,
    "scrolled": true
   },
   "outputs": [],
   "source": [
    "# This program displays a triangle pattern of asterisks"
   ]
  },
  {
   "cell_type": "markdown",
   "metadata": {},
   "source": [
    "# Strings Operations\n",
    "\n",
    "* Strings are a sequence of characters delimited by quotation marks.\n",
    "  * This means we should be able to get the individual characters or sub-sequences\n",
    "  * Which in turn means, we can perform operations on the characters or sub-sequences\n"
   ]
  },
  {
   "cell_type": "markdown",
   "metadata": {},
   "source": [
    "# Indexing\n",
    "\n",
    "* Individual characters in strings can be identified using an index.\n",
    "* This is done by adding square brackets to the end of a string (value or variable)\n",
    "* Indexes start from 0 (It's a computer science thing.)\n",
    "\n",
    "![](images/string_indexes.png)\n",
    "\n",
    "* We can get a copy of a character from a string"
   ]
  },
  {
   "cell_type": "code",
   "execution_count": null,
   "metadata": {
    "collapsed": false,
    "scrolled": true
   },
   "outputs": [],
   "source": [
    "\"Hello, I wish to register a complaint.\"[0] # This should be H"
   ]
  },
  {
   "cell_type": "markdown",
   "metadata": {},
   "source": [
    "# Negative Indexes\n",
    "\n",
    "* We can use negative indexes to access the characters starting at the end of a string\n",
    "  * Easier than figuring out the index of the last character"
   ]
  },
  {
   "cell_type": "code",
   "execution_count": null,
   "metadata": {
    "collapsed": false,
    "scrolled": true
   },
   "outputs": [],
   "source": [
    "\"Hello, I wish to register a complaint.\"[-1] # This should be ."
   ]
  },
  {
   "cell_type": "code",
   "execution_count": null,
   "metadata": {
    "collapsed": false,
    "scrolled": true
   },
   "outputs": [],
   "source": [
    "len(opening)"
   ]
  },
  {
   "cell_type": "code",
   "execution_count": null,
   "metadata": {
    "collapsed": false,
    "scrolled": true
   },
   "outputs": [],
   "source": [
    "\"Hello, I wish to register a complaint.\"[37]"
   ]
  },
  {
   "cell_type": "code",
   "execution_count": null,
   "metadata": {
    "collapsed": true,
    "scrolled": true
   },
   "outputs": [],
   "source": [
    "\"Hello, I wish to register a complaint.\"[-2]"
   ]
  },
  {
   "cell_type": "code",
   "execution_count": null,
   "metadata": {
    "collapsed": true,
    "scrolled": true
   },
   "outputs": [],
   "source": [
    "opening = \"Hello, I wish to register a complaint.\""
   ]
  },
  {
   "cell_type": "markdown",
   "metadata": {},
   "source": [
    "# Iterating Over a String\n",
    "\n",
    "* To access every character in a string, we can use a loop"
   ]
  },
  {
   "cell_type": "code",
   "execution_count": null,
   "metadata": {
    "collapsed": true,
    "scrolled": true
   },
   "outputs": [],
   "source": [
    "name = \"Monty\"\n",
    "for character in Monty:\n",
    "    print(character)"
   ]
  },
  {
   "cell_type": "code",
   "execution_count": null,
   "metadata": {
    "collapsed": true,
    "scrolled": true
   },
   "outputs": [],
   "source": [
    "name =\"Monty\"\n",
    "index = 0\n",
    "while index < 6:\n",
    "    print(name[index])\n",
    "    index += 1\n"
   ]
  },
  {
   "cell_type": "markdown",
   "metadata": {},
   "source": [
    "# IndexError Exceptions\n",
    "\n",
    "* An `IndexError` exception is *thrown* when you use an array index is out of range\n",
    "\n",
    "# Exceptions\n",
    "\n",
    "* An Exception is an object or data structure that is passed back to a calling context when there is a problem\n",
    "  * Not meant to be used in normal operation\n",
    "\n",
    "* If you don't want an exception to cause your program to crash, you can handle them in your code using try/except blocks\n",
    "\n",
    "```\n",
    "try:\n",
    "    statement\n",
    "    statement\n",
    "except ExceptionName:\n",
    "    statement\n",
    "    statement\n",
    "```\n",
    "\n",
    "Inside the try block are the statement that might throw an exception.\n",
    "\n",
    "The statements in the except block are run when an exception of type *ExceptionName* is thrown by the try block.\n",
    "\n",
    "We'll come back to this later in the course."
   ]
  },
  {
   "cell_type": "code",
   "execution_count": null,
   "metadata": {
    "collapsed": true,
    "scrolled": true
   },
   "outputs": [],
   "source": [
    "name =\"Monty\"\n",
    "index = 0\n",
    "\n",
    "while index < 6:\n",
    "    print(name[index])\n",
    "    index += 1"
   ]
  },
  {
   "cell_type": "markdown",
   "metadata": {},
   "source": [
    "# String Slicing\n",
    "\n",
    "* A slice is a span of items that are taken from a sequence.\n",
    "* A slicing expression can be used to select a range of characters from a string.\n",
    "* General format of a string slice:\n",
    "```\n",
    "    string[ start : end : step]\n",
    "```\n",
    "\n",
    "This is similar to the range function from last week."
   ]
  },
  {
   "cell_type": "code",
   "execution_count": null,
   "metadata": {
    "collapsed": false,
    "scrolled": true
   },
   "outputs": [],
   "source": [
    "\"Hello, I wish to register a complaint.\"[5:15]"
   ]
  },
  {
   "cell_type": "markdown",
   "metadata": {},
   "source": [
    "# Testing, Searching, and Manipulating Strings\n",
    "\n",
    "* Python provides a number of operators and methods for testing strings, searching the contents of strings, and getting modified copies of strings.\n",
    "\n",
    "## Testing with `in` and `not in`\n",
    "\n",
    "* Evaluates to a Boolean\n",
    "* General formats\n",
    "\n",
    "```\n",
    "string1 in string2\n",
    "\n",
    "string1 not in string2\n",
    "```\n"
   ]
  },
  {
   "cell_type": "code",
   "execution_count": null,
   "metadata": {
    "collapsed": false,
    "scrolled": true
   },
   "outputs": [],
   "source": [
    "knights = \"Arthur Lancelot Robin Bedevere Galahad\"\n",
    "\n",
    "if \"Arthur\" in knights:\n",
    "    print(\"Arthur is a knight\")\n",
    "else:\n",
    "    print(\"Arthur is not a knight\")\n",
    "\n",
    "if \"Graham\" not in knights:\n",
    "    print(\"Graham is not a knight\")\n",
    "else:\n",
    "    print(\"Graham is a knight\")"
   ]
  },
  {
   "cell_type": "markdown",
   "metadata": {},
   "source": [
    "# String Methods\n",
    "\n",
    "* A method is a function that belongs to an object. (Strings are objects.)\n",
    "* General form\n",
    "\n",
    "```\n",
    "   string.method(arguments)\n",
    "```\n",
    "\n",
    "There are *a lot* of useful string methods. You'll learn them over time. Here are a few to get you started.\n",
    "\n",
    "![](images/string_testing.png)"
   ]
  },
  {
   "cell_type": "code",
   "execution_count": null,
   "metadata": {
    "collapsed": true,
    "scrolled": true
   },
   "outputs": [],
   "source": [
    "# Write a function to check that a password is strong enough\n"
   ]
  },
  {
   "cell_type": "markdown",
   "metadata": {},
   "source": [
    "![](images/string_modification.png)"
   ]
  },
  {
   "cell_type": "markdown",
   "metadata": {},
   "source": [
    "# Strings are Immutable\n",
    "\n",
    "* A data structure that is immutable cannot be changed after it is created.\n",
    "\n",
    "*Wait, what?*\n",
    "\n",
    "Yes, all those strings that we were concatenating or appending were busy making copies."
   ]
  },
  {
   "cell_type": "code",
   "execution_count": null,
   "metadata": {
    "collapsed": false,
    "scrolled": true
   },
   "outputs": [],
   "source": [
    "knights = \"Lancelot\"\n",
    "knights += \" Robin\"\n",
    "knights"
   ]
  },
  {
   "cell_type": "code",
   "execution_count": null,
   "metadata": {
    "collapsed": true,
    "scrolled": true
   },
   "outputs": [],
   "source": []
  },
  {
   "cell_type": "markdown",
   "metadata": {},
   "source": [
    "![](images/string_search.png)"
   ]
  },
  {
   "cell_type": "code",
   "execution_count": null,
   "metadata": {
    "collapsed": false,
    "scrolled": true
   },
   "outputs": [],
   "source": []
  },
  {
   "cell_type": "markdown",
   "metadata": {},
   "source": [
    "## Splitting a String\n"
   ]
  },
  {
   "cell_type": "code",
   "execution_count": null,
   "metadata": {
    "collapsed": true,
    "scrolled": true
   },
   "outputs": [],
   "source": [
    "knight_string = \"Arthur Lancelot Robin Bedevere Galahad\"\n",
    "knight_list = knight_string.split()\n",
    "\n",
    "knight_list"
   ]
  },
  {
   "cell_type": "code",
   "execution_count": null,
   "metadata": {
    "collapsed": true,
    "scrolled": true
   },
   "outputs": [],
   "source": [
    "date_string = \"15/10/2015\"\n",
    "date_list = data_string.split(\"/\")"
   ]
  },
  {
   "cell_type": "markdown",
   "metadata": {},
   "source": [
    "# Functions\n",
    "\n",
    "* A function is a way to group together lines of code.\n",
    "* Useful for doing the same task in different places.\n",
    "* Makes the code easier to read.\n",
    "* Avoids repeating code.\n",
    "\n",
    "```\n",
    "def function_name():\n",
    "    statement\n",
    "    statement\n",
    "    statement\n",
    "```\n",
    "\n",
    "* A function has the following parts.\n",
    "  * A name\n",
    "  * Parameters (inputs)\n",
    "  * Optionally, return values (outputs)\n",
    "  \n",
    "Functions are either a *void function* or a *value-returning function*."
   ]
  },
  {
   "cell_type": "markdown",
   "metadata": {},
   "source": [
    "# Defining and Calling a Void Function\n",
    "\n",
    "* The code for a function is known as a function definition.\n",
    "* To cause a function to run, you write a statement that calls it.\n",
    "\n",
    "* General form for definition\n",
    "```\n",
    "def function_name():\n",
    "    statement\n",
    "    statement\n",
    "```\n",
    "\n",
    "* General form for call\n",
    "\n",
    "```\n",
    "function_name()\n",
    "```\n"
   ]
  },
  {
   "cell_type": "code",
   "execution_count": null,
   "metadata": {
    "collapsed": true,
    "scrolled": true
   },
   "outputs": [],
   "source": [
    "# This program demonstrates a function\n",
    "# First we define a function named \"message\"\n",
    "\n",
    "def message():\n",
    "    print(\"I am Arthur\")\n",
    "    print (\"King of the Britons\")\n",
    "\n",
    "# Call the message function\n",
    "message()"
   ]
  },
  {
   "cell_type": "markdown",
   "metadata": {},
   "source": [
    "## Function Names\n",
    "\n",
    "* Not a Python keyword\n",
    "* No spaces\n",
    "* First character must be uppercase letter, lowercase letter, or underscore (_)\n",
    "* Subsequent characters can be the above, plus digits 0-9\n",
    "* Case sensitive"
   ]
  },
  {
   "cell_type": "markdown",
   "metadata": {},
   "source": [
    "## Functions Calling Functions\n",
    "\n",
    "See the [visualization](http://www.pythontutor.com/visualize.html#code=def+wrapped_message(%29%3A%0A++++print(%22I+have+a+message+for+you%22%29%0A++++message(%29%0A++++print(%22Good+bye!%22%29%0A%0Adef+message(%29%3A%0A++++print(%22I+am+Arthur%22%29%0A++++print+(%22King+of+the+Britons%22%29%0A%0Awrapped_message(%29&mode=display&origin=opt-frontend.js&cumulative=false&heapPrimitives=false&textReferences=false&py=2&rawInputLstJSON=%5B%5D&curInstr=0)"
   ]
  },
  {
   "cell_type": "code",
   "execution_count": null,
   "metadata": {
    "collapsed": false,
    "scrolled": true
   },
   "outputs": [],
   "source": [
    "def wrapped_message():\n",
    "    print(\"I have a message for you\")\n",
    "    message()\n",
    "    print(\"Good bye!\")\n",
    "\n",
    "def message():\n",
    "    print(\"I am Arthur\")\n",
    "    print (\"King of the Britons\")\n",
    "\n",
    "wrapped_message()"
   ]
  },
  {
   "cell_type": "markdown",
   "metadata": {},
   "source": [
    "## Indentation\n",
    "\n",
    "* In Python, indentation is used to indicate blocks\n",
    "* Blocks are lines of code that execute as a group.\n",
    "* Blocks are contexts.\n",
    "* Python best practice is to indent using 4 spaces"
   ]
  },
  {
   "cell_type": "markdown",
   "metadata": {},
   "source": [
    "# Designing a Program to Use Functions\n",
    "\n",
    "When we design a program, we have to plan ahead to use functions effectively. Taking a problem or program and breaking it into sub-parts is calle *top-down design*.\n",
    "\n",
    "## Steps in Top-Down Design\n",
    "\n",
    "1. The overall task is broken into sub-tasks.\n",
    "2. Each sub-task is examined to determine whether it can be broken down further. Repeat until no more sub-tasks can be identified.\n",
    "3. Once all the sub-tasks are identified, they are written in code.\n",
    "\n",
    "![](images/function_flow.png)\n",
    "\n",
    "![](images/function_hierarchy.png)"
   ]
  },
  {
   "cell_type": "markdown",
   "metadata": {},
   "source": [
    "# Local Variables\n",
    "\n",
    "* Variables have scope, or visibility to other parts of the program.\n",
    "* We have mostly been using the top level or *global* scope.\n",
    "* Functions are a new scope.\n",
    "* A *local variable* is a variable that has been created inside a function. It is not visible outside the function.\n",
    "* Functions cannot see each other's local variables.\n",
    "\n",
    "The visibility or scope of a variable is what allows us to have variables that have the same name, but point to different data in different contexts."
   ]
  },
  {
   "cell_type": "code",
   "execution_count": null,
   "metadata": {
    "collapsed": false,
    "scrolled": true
   },
   "outputs": [],
   "source": [
    "def blue_jays():\n",
    "    runs = 6\n",
    "    print (\"The Blue Jays scored {0} runs\").format(runs)\n",
    "\n",
    "def rangers():\n",
    "    runs = 3\n",
    "    print(\"The Rangers scored \" + str(runs) + \" runs\")\n",
    "\n",
    "runs = 9\n",
    "print(runs)\n",
    "blue_jays()\n",
    "rangers()\n"
   ]
  },
  {
   "cell_type": "markdown",
   "metadata": {},
   "source": [
    "# Passing Data to Functions\n",
    "\n",
    "* An *argument* is data passed in to a function when it is called.\n",
    "* A *parameter* is a variable that receives the data. It is named when the code is written.\n",
    "\n",
    "See [Online Python Tutor visualization](http://www.pythontutor.com/visualize.html#code=def+greet(name%29%3A%0A++++print(%22Hello+%25s!%22%29+%25+name%0A%0Aknight+%3D+%22Sir+Bedevere%22%0Agreet(knight%29&mode=display&origin=opt-frontend.js&cumulative=false&heapPrimitives=false&textReferences=false&py=2&rawInputLstJSON=%5B%5D&curInstr=6)"
   ]
  },
  {
   "cell_type": "code",
   "execution_count": null,
   "metadata": {
    "collapsed": false,
    "scrolled": true
   },
   "outputs": [],
   "source": [
    "def greet(name):\n",
    "    print(\"Hello %s!\") % name\n",
    "\n",
    "knight = \"Sir Bedevere\"\n",
    "greet(knight)"
   ]
  },
  {
   "cell_type": "markdown",
   "metadata": {},
   "source": [
    "# Passing Multiple Arguments\n",
    "\n",
    "* Arguments must be passed into functions in the same order as the parameters in the function definition.\n"
   ]
  },
  {
   "cell_type": "code",
   "execution_count": null,
   "metadata": {
    "collapsed": false,
    "scrolled": true
   },
   "outputs": [],
   "source": [
    "def outrank(knight1, knight2):\n",
    "    print(knight1 + \" outranks \" + knight2)\n",
    "\n",
    "outrank(\"Arthur\", \"Galahad\")"
   ]
  },
  {
   "cell_type": "markdown",
   "metadata": {},
   "source": [
    "# Making Changes to Parameters\n",
    "\n",
    "* Python is a \"call by value\" language, which means the value is passed into functions\n",
    "\n",
    "### Aside\n",
    "* The alternative is \"call by reference\", which means a pointer to the data structure is passed into functions.\n",
    "* C/C++ is a call by reference language."
   ]
  },
  {
   "cell_type": "code",
   "execution_count": null,
   "metadata": {
    "collapsed": false,
    "scrolled": true
   },
   "outputs": [],
   "source": [
    "def change_me(arg):\n",
    "    print(\"change_me() is changing the value\")\n",
    "    arg = 0\n",
    "    print(\"Now the value is {0}\").format(arg)\n",
    "\n",
    "value = \"Lancelot\"\n",
    "print(\"The value is \" + value)\n",
    "change_me(value)\n",
    "print(\"Back in main the value is \" + value)"
   ]
  },
  {
   "cell_type": "markdown",
   "metadata": {},
   "source": [
    "# Value-Returning Functions\n",
    "\n",
    "* Pass data back to the calling context\n",
    "* Uses the *return* keyword\n",
    "* Can return a single value\n",
    "* Can return multiple values using a data structure, e.g. list, tuple, or dictionary"
   ]
  },
  {
   "cell_type": "code",
   "execution_count": null,
   "metadata": {
    "collapsed": true,
    "scrolled": true
   },
   "outputs": [],
   "source": [
    "def holy_hand_grenade(tick):\n",
    "    output = \"\"\n",
    "    \n",
    "    if tick == 1:\n",
    "        output = \"Keepest going\"\n",
    "    elif tick == 2:\n",
    "        output = \"Nor either count thou two, excepting that thou then proceed to three\"\n",
    "    elif tick == 3:\n",
    "        output = \"Lobbest thou thy Holy Hand Grenade of Antioch towards thou foe\"\n",
    "    elif tick == 4:\n",
    "        output = \"Four shalt thou not count\"\n",
    "    elif tick == 5:\n",
    "        output = \"Five is right out\"\n",
    "    \n",
    "    return output\n",
    "\n",
    "holy_hand_grenade(3)\n"
   ]
  },
  {
   "cell_type": "code",
   "execution_count": null,
   "metadata": {
    "collapsed": true,
    "scrolled": true
   },
   "outputs": [],
   "source": []
  },
  {
   "cell_type": "markdown",
   "metadata": {},
   "source": [
    "# Let's Practice"
   ]
  },
  {
   "cell_type": "code",
   "execution_count": null,
   "metadata": {
    "collapsed": true,
    "scrolled": true
   },
   "outputs": [],
   "source": [
    "# Turn this code into a function\n",
    "\n",
    "if (temperature < 15):\n",
    "    print(\"Wear a coat.\")\n",
    "    \n"
   ]
  },
  {
   "cell_type": "code",
   "execution_count": null,
   "metadata": {
    "collapsed": true,
    "scrolled": true
   },
   "outputs": [],
   "source": [
    "# Write a function to sum two values\n"
   ]
  }
 ],
 "metadata": {
  "kernelspec": {
   "display_name": "Python 2",
   "language": "python",
   "name": "python2"
  },
  "language_info": {
   "codemirror_mode": {
    "name": "ipython",
    "version": 2
   },
   "file_extension": ".py",
   "mimetype": "text/x-python",
   "name": "python",
   "nbconvert_exporter": "python",
   "pygments_lexer": "ipython2",
   "version": "2.7.10"
  }
 },
 "nbformat": 4,
 "nbformat_minor": 0
}
