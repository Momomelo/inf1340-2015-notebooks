{
 "cells": [
  {
   "cell_type": "markdown",
   "metadata": {},
   "source": [
    "# Overview\n",
    "\n",
    "* Hour 1\n",
    "  * Data Types\n",
    "  * Decision Structures\n",
    "\n",
    "* Hour 2\n",
    "  * git demo\n",
    "  * py.test demo\n",
    "\n",
    "* Hour 3\n",
    "  * Graded lab exercise"
   ]
  },
  {
   "cell_type": "markdown",
   "metadata": {},
   "source": [
    "# Data Types\n",
    "\n",
    "* Recall that variables are like containers with labels\n",
    "* These containers also have \"type.\" The type of a container determines the shape of stuff that can go inside.\n",
    "* Many data types in Python. Only need to know about: string, integer, float, and Boolean\n",
    "\n",
    "## Integer\n",
    "* Positive or negative whole numbers\n",
    "\n",
    "## Float\n",
    "* Short for floating point number\n",
    "* Positive or negative number with values to the right of the decimal place\n",
    "\n",
    "## Booleans\n",
    "\n",
    "* Named after the mathematician George Boole.\n",
    "* Booleans can be `True` or `False`. (The capitalization is important.)"
   ]
  },
  {
   "cell_type": "code",
   "execution_count": null,
   "metadata": {
    "collapsed": true
   },
   "outputs": [],
   "source": [
    "arthur = \"king\"\n",
    "lancelot = -23\n",
    "robin = 1.99\n",
    "bedevere = True"
   ]
  },
  {
   "cell_type": "markdown",
   "metadata": {},
   "source": [
    "# How does Python know the data type?\n",
    "\n",
    "* Strings are delimited by quotation marks\n",
    "* Floats have decimals\n",
    "* Ints don't have decimals"
   ]
  },
  {
   "cell_type": "code",
   "execution_count": 28,
   "metadata": {
    "collapsed": false
   },
   "outputs": [
    {
     "data": {
      "text/plain": [
       "str"
      ]
     },
     "execution_count": 28,
     "metadata": {},
     "output_type": "execute_result"
    }
   ],
   "source": [
    "arthur = \"king\"\n",
    "type(arthur)"
   ]
  },
  {
   "cell_type": "code",
   "execution_count": 29,
   "metadata": {
    "collapsed": false
   },
   "outputs": [
    {
     "data": {
      "text/plain": [
       "int"
      ]
     },
     "execution_count": 29,
     "metadata": {},
     "output_type": "execute_result"
    }
   ],
   "source": [
    "lancelot = -23\n",
    "type(lancelot)"
   ]
  },
  {
   "cell_type": "code",
   "execution_count": 30,
   "metadata": {
    "collapsed": false
   },
   "outputs": [
    {
     "data": {
      "text/plain": [
       "float"
      ]
     },
     "execution_count": 30,
     "metadata": {},
     "output_type": "execute_result"
    }
   ],
   "source": [
    "robin = 1.99\n",
    "type(robin)"
   ]
  },
  {
   "cell_type": "code",
   "execution_count": 31,
   "metadata": {
    "collapsed": false
   },
   "outputs": [
    {
     "data": {
      "text/plain": [
       "bool"
      ]
     },
     "execution_count": 31,
     "metadata": {},
     "output_type": "execute_result"
    }
   ],
   "source": [
    "bedevere = True\n",
    "type(bedevere)"
   ]
  },
  {
   "cell_type": "markdown",
   "metadata": {},
   "source": [
    "# Reassigning Variables\n",
    "\n",
    "* Variables can change values after initial assignment"
   ]
  },
  {
   "cell_type": "code",
   "execution_count": 32,
   "metadata": {
    "collapsed": false
   },
   "outputs": [
    {
     "data": {
      "text/plain": [
       "57"
      ]
     },
     "execution_count": 32,
     "metadata": {},
     "output_type": "execute_result"
    }
   ],
   "source": [
    "galahad = 1\n",
    "galahad = 57\n",
    "galahad"
   ]
  },
  {
   "cell_type": "markdown",
   "metadata": {},
   "source": [
    "* Variables can also change types after initial assignment"
   ]
  },
  {
   "cell_type": "code",
   "execution_count": 34,
   "metadata": {
    "collapsed": false
   },
   "outputs": [
    {
     "data": {
      "text/plain": [
       "str"
      ]
     },
     "execution_count": 34,
     "metadata": {},
     "output_type": "execute_result"
    }
   ],
   "source": [
    "patsy = 2\n",
    "patsy = \"Clip clop\"\n",
    "type(patsy)\n"
   ]
  },
  {
   "cell_type": "markdown",
   "metadata": {},
   "source": [
    "* Value can also be forced to take on a data type\n",
    "  * int() converts a value to an integer\n",
    "  * float() converts a value to a float\n",
    "  * str() converts a value to a string\n",
    " \n",
    " But it doesn't always make sense to so"
   ]
  },
  {
   "cell_type": "code",
   "execution_count": 40,
   "metadata": {
    "collapsed": false
   },
   "outputs": [
    {
     "data": {
      "text/plain": [
       "str"
      ]
     },
     "execution_count": 40,
     "metadata": {},
     "output_type": "execute_result"
    }
   ],
   "source": [
    "zoot = float(5)\n",
    "zoot = 5.0\n",
    "zoot\n",
    "type(zoot)\n",
    "zoot = \"5\"\n",
    "type(zoot)\n",
    "zoot = str(5)\n",
    "zoot\n",
    "type(zoot)"
   ]
  },
  {
   "cell_type": "code",
   "execution_count": 49,
   "metadata": {
    "collapsed": false
   },
   "outputs": [
    {
     "name": "stdout",
     "output_type": "stream",
     "text": [
      "king5\n",
      "20.0\n"
     ]
    },
    {
     "data": {
      "text/plain": [
       "20"
      ]
     },
     "execution_count": 49,
     "metadata": {},
     "output_type": "execute_result"
    }
   ],
   "source": [
    "arthur = \"king\"\n",
    "galahad = \"5\"\n",
    "\n",
    "print(arthur + galahad)\n",
    "\n",
    "robin = 4\n",
    "bedevere = 5.0\n",
    "\n",
    "print(robin * bedevere)\n",
    "int(20.7)"
   ]
  },
  {
   "cell_type": "markdown",
   "metadata": {},
   "source": [
    "# Ranges of Data Types\n",
    "\n",
    "* It is possible to have numbers that are too big or too small to be represented by Python.\n",
    "* Integers range from `-2**63` to `2**63 - 1`\n",
    "* Floats range from 2.2250738585072014e-308 to 1.7976931348623157e+308\n"
   ]
  },
  {
   "cell_type": "code",
   "execution_count": null,
   "metadata": {
    "collapsed": false
   },
   "outputs": [],
   "source": [
    "import sys\n",
    "print(sys.maxint)\n",
    "print(sys.float_info)\n"
   ]
  },
  {
   "cell_type": "markdown",
   "metadata": {},
   "source": [
    "# Decision Structures\n",
    "\n",
    "So far, we've been writing programs that do the same thing repeatedly. If order for a program to be more reactive, we need a way for it to make decisions. Depending on whether something is the case, it takes one action or another. \n",
    "\n",
    "![](images/if.png)\n",
    "\n",
    "Here's the general form of an if statement\n",
    "\n",
    "`\n",
    "if *condition*:\n",
    "    statement\n",
    "    statement\n",
    "    etc.\n",
    "`"
   ]
  },
  {
   "cell_type": "code",
   "execution_count": 51,
   "metadata": {
    "collapsed": false
   },
   "outputs": [],
   "source": [
    "cold = True\n",
    "\n",
    "if cold:\n",
    "    print(\"Wear a coat.\")"
   ]
  },
  {
   "cell_type": "markdown",
   "metadata": {},
   "source": [
    "## Boolean Expressions and Relational Operators\n",
    "\n",
    "![](images/relational_operators.png)"
   ]
  },
  {
   "cell_type": "code",
   "execution_count": 56,
   "metadata": {
    "collapsed": false
   },
   "outputs": [
    {
     "data": {
      "text/plain": [
       "True"
      ]
     },
     "execution_count": 56,
     "metadata": {},
     "output_type": "execute_result"
    }
   ],
   "source": [
    "x = 1\n",
    "y = 2\n",
    "y != x"
   ]
  },
  {
   "cell_type": "markdown",
   "metadata": {},
   "source": [
    "## Comparing Strings\n",
    "\n",
    "* Characters are stored as ASCII codes\n",
    "  * Uppercase A-Z are numbers 65-90\n",
    "  * Lowercase a-z are 97-122\n",
    "  * Digits 0-9 are 48-57\n",
    "* String comparisons use these codes"
   ]
  },
  {
   "cell_type": "code",
   "execution_count": 62,
   "metadata": {
    "collapsed": false
   },
   "outputs": [
    {
     "data": {
      "text/plain": [
       "False"
      ]
     },
     "execution_count": 62,
     "metadata": {},
     "output_type": "execute_result"
    }
   ],
   "source": [
    "name1 = \"Mary1\"\n",
    "name2 = \"Mary\"\n",
    "\n",
    "name1 < name2"
   ]
  },
  {
   "cell_type": "markdown",
   "metadata": {},
   "source": [
    "# Putting Together Concepts\n",
    "\n",
    "Let's put the if statement together with Boolean expressions"
   ]
  },
  {
   "cell_type": "code",
   "execution_count": 64,
   "metadata": {
    "collapsed": false
   },
   "outputs": [
    {
     "name": "stdout",
     "output_type": "stream",
     "text": [
      "Wear a coat.\n"
     ]
    }
   ],
   "source": [
    "temperature = 10\n",
    "\n",
    "if (temperature < 12):\n",
    "    print(\"Wear a coat.\")"
   ]
  },
  {
   "cell_type": "markdown",
   "metadata": {},
   "source": [
    "# Alternate Paths\n",
    "\n",
    "![](images/if-else.png)"
   ]
  },
  {
   "cell_type": "code",
   "execution_count": 69,
   "metadata": {
    "collapsed": false
   },
   "outputs": [
    {
     "name": "stdout",
     "output_type": "stream",
     "text": [
      "A little cold, isn't it?\n",
      "Wear a coat\n",
      "Done the if-statement\n"
     ]
    }
   ],
   "source": [
    "temperature = 39.5\n",
    "\n",
    "if temperature < 40.0:\n",
    "    print(\"A little cold, isn't it?\")\n",
    "    print(\"Wear a coat\")\n",
    "else:\n",
    "    print(\"Nice weather we're having\")\n",
    "    print(\"Don't wear a coat\")\n",
    "\n",
    "print(\"Done the if-statement\")"
   ]
  },
  {
   "cell_type": "markdown",
   "metadata": {},
   "source": [
    "# Nested Decision Structure\n",
    "\n",
    "![](images/if-else-nested.png)"
   ]
  },
  {
   "cell_type": "code",
   "execution_count": 72,
   "metadata": {
    "collapsed": false
   },
   "outputs": [
    {
     "name": "stdout",
     "output_type": "stream",
     "text": [
      "You qualify for the loan\n"
     ]
    }
   ],
   "source": [
    "salary = 40000\n",
    "years_on_the_job = 2\n",
    "\n",
    "if salary >= 30000:\n",
    "    if years_on_the_job >= 2:\n",
    "        print(\"You qualify for the loan\")\n",
    "    else:\n",
    "        print(\"You must have been on your current job for at least two years to qualify.\")\n",
    "else:\n",
    "    print(\"You must earn at least $30,000 per year to qualify.\")"
   ]
  },
  {
   "cell_type": "markdown",
   "metadata": {},
   "source": [
    "# Multiple Nested Decision Structures\n",
    "\n",
    "![](images/if-elif-else.png)"
   ]
  },
  {
   "cell_type": "code",
   "execution_count": 83,
   "metadata": {
    "collapsed": false
   },
   "outputs": [
    {
     "name": "stdout",
     "output_type": "stream",
     "text": [
      "Restart. Try again.\n",
      "Done with if-statement\n"
     ]
    }
   ],
   "source": [
    "score = 45\n",
    "\n",
    "if score >= 90:\n",
    "    print(\"Your grade is A\")\n",
    "elif score >= 80:\n",
    "    print(\"Your grade is B\")\n",
    "elif score >= 70:\n",
    "    print(\"Your grade is C\")\n",
    "else:\n",
    "    print (\"Restart. Try again.\")\n",
    "\n",
    "print(\"Done with if-statement\")"
   ]
  },
  {
   "cell_type": "markdown",
   "metadata": {},
   "source": [
    "# Rule 5\n",
    "\n",
    "Test your code, often and thoroughly.\n",
    "\n",
    "# py.test\n",
    "\n",
    "A test framework for Python. (There are many.)\n",
    "\n",
    "We use this to grade. For subsequent assignments, you'll be writing test cases too."
   ]
  },
  {
   "cell_type": "markdown",
   "metadata": {},
   "source": [
    "# Lab Exercise\n",
    "\n",
    "Each student should **fork** the repo at:\n",
    "```\n",
    "https://github.com/benevolentprof/inf1340-2015-labs\n",
    "```\n",
    "Then **clone** into PyCharm\n",
    "\n",
    "Do the exercise, commit and push as you go along."
   ]
  },
  {
   "cell_type": "code",
   "execution_count": null,
   "metadata": {
    "collapsed": true
   },
   "outputs": [],
   "source": []
  }
 ],
 "metadata": {
  "kernelspec": {
   "display_name": "Python 2",
   "language": "python",
   "name": "python2"
  },
  "language_info": {
   "codemirror_mode": {
    "name": "ipython",
    "version": 2
   },
   "file_extension": ".py",
   "mimetype": "text/x-python",
   "name": "python",
   "nbconvert_exporter": "python",
   "pygments_lexer": "ipython2",
   "version": "2.7.10"
  }
 },
 "nbformat": 4,
 "nbformat_minor": 0
}
