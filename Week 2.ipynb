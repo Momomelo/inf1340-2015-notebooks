{
 "cells": [
  {
   "cell_type": "markdown",
   "metadata": {
    "slideshow": {
     "slide_type": "slide"
    }
   },
   "source": [
    "#Preamble\n",
    "\n",
    "This software is iPython Notebook. From the command line, change to the directory where your Notebooks (.ipynb) are located and type\n",
    "\n",
    "`ipython notebook`\n",
    "\n",
    "![Screenshot of Command](files/images/ipython_command.png)\n",
    "\n",
    "A Notebook contains \"cells\". Edit a cell by double clicking on it.\n",
    "\n",
    "Some of the cells, like this one, contains text. The text is formatted using a language called \"Markdown.\" It's similar to what's used in Wikipedia. You can find out more by going to the Help menu above.\n",
    "\n",
    "Other cells, like the one below, contain Python code and can be run.\n",
    "\n",
    "Both types of cells are \"run\" using the \"play\" button, above.\n"
   ]
  },
  {
   "cell_type": "code",
   "execution_count": 1,
   "metadata": {
    "collapsed": false
   },
   "outputs": [
    {
     "name": "stdout",
     "output_type": "stream",
     "text": [
      "Hello world\n"
     ]
    }
   ],
   "source": [
    "print(\"Hello world\")"
   ]
  },
  {
   "cell_type": "markdown",
   "metadata": {},
   "source": [
    "#Rule 3\n",
    "\n",
    "The best way to improve your programming and problem skills is to practice."
   ]
  },
  {
   "cell_type": "code",
   "execution_count": null,
   "metadata": {
    "collapsed": false
   },
   "outputs": [],
   "source": [
    "#Input the hours worked\n",
    "#Input the hourly pay\n",
    "#Calculate the gross pay as hours worked multiplied by pay rate\n",
    "#Display the gross pay \n"
   ]
  },
  {
   "cell_type": "markdown",
   "metadata": {},
   "source": [
    "#Input, Processing, and Output\n",
    "\n",
    "Typically, a computer performs a three-step process\n",
    "\n",
    "1. Retrieve input\n",
    "  * Examples: keyboard input, text file, database\n",
    "2. Perform some process on the input\n",
    "  * Examples: mathematical calculation, summarize\n",
    "3. Produce output\n",
    "  * Example: a number, a report, write to file\n",
    "\n",
    "We'll talk about output first, as that's the most straightforward and we did this in tutorial last week."
   ]
  },
  {
   "cell_type": "markdown",
   "metadata": {},
   "source": [
    "# Output\n",
    "\n",
    "* The `print` function displays output on the screen.\n",
    "* A *function* is a collection of lines of code that is referred to by the *function name*\n",
    "* \"Calling\" a function causes all the lines of code inside it to run\n",
    "\n",
    "* Here is an example of a function. Don't worry about the details now. We'll be talking about them more in a couple of weeks."
   ]
  },
  {
   "cell_type": "code",
   "execution_count": 2,
   "metadata": {
    "collapsed": false
   },
   "outputs": [
    {
     "name": "stdout",
     "output_type": "stream",
     "text": [
      "\"Beware the Jabberwock, my son!\n",
      "The jaws that bite, the claws that catch!\n",
      "Beware the Jubjub bird, and shun\n",
      "The frumious Bandersnatch!\"\n"
     ]
    }
   ],
   "source": [
    "def first_function():\n",
    "    print(\"\\\"Beware the Jabberwock, my son!\")\n",
    "    print(\"The jaws that bite, the claws that catch!\")\n",
    "    print(\"Beware the Jubjub bird, and shun\")\n",
    "    print(\"The frumious Bandersnatch!\\\"\")\n",
    "\n",
    "first_function() "
   ]
  },
  {
   "cell_type": "markdown",
   "metadata": {},
   "source": [
    "The `print` function outputs strings and variables. So let's look at those now."
   ]
  },
  {
   "cell_type": "markdown",
   "metadata": {},
   "source": [
    "# Strings\n",
    "\n",
    "* A *string* is a sequence of characters that is use as data\n",
    "* A *string literal* is a string that appears in the actual code of a program\n",
    "\n",
    "I usually say just \"string\"\n",
    "\n",
    "## String Delimiters\n",
    "- Must be enclosed in single (‘) or double (“) quotations marks\n",
    "- Can also be enclosed in triple quotes (‘’’ or “””)\n",
    "  * Use with strings that span multiple lines, or contain both single and double quotes\n",
    "\n",
    "**Recommended style for Python is double quotation marks**\n"
   ]
  },
  {
   "cell_type": "code",
   "execution_count": null,
   "metadata": {
    "collapsed": false
   },
   "outputs": [],
   "source": [
    "\"This is a string literal\"\n",
    "'This is also a string literal'\n",
    "\n",
    "\"\"\"He took his vorpal sword in hand:\n",
    "Long time the manxome foe he sought --\n",
    "So rested he by the Tumtum tree,\n",
    "And stood awhile in thought.\n",
    "\"\"\""
   ]
  },
  {
   "cell_type": "markdown",
   "metadata": {},
   "source": [
    "## Things to Notice\n",
    "\n",
    "The above code doesn't do anything. We've just declared some strings.\n",
    "\n",
    "The triple quotation string helps with Rule 2.\n",
    "\n",
    "### Rule 2\n",
    "\n",
    "A program is a human-readable essay on problem solving that also happens to execute on a computer."
   ]
  },
  {
   "cell_type": "markdown",
   "metadata": {},
   "source": [
    "# Variables\n",
    "\n",
    "* A *variable* is a container that has a label and can hold data.\n",
    "* An assignment statement has the following general form\n",
    "  * *variable = expression*\n",
    "  * The left hand side creates the container and gives it a label.\n",
    "  * The equal sign (=) puts the value on the right hand side into the container."
   ]
  },
  {
   "cell_type": "code",
   "execution_count": null,
   "metadata": {
    "collapsed": false
   },
   "outputs": [],
   "source": [
    "# Varible assignment\n",
    "# Let age be equal to 25\n",
    "# Let 25 be assigned to age\n",
    "age = 25\n",
    "\n",
    "\n",
    "# Comparison\n",
    "# Is age equal to 25?\n",
    "age == 25\n",
    "# Evaluates to True or False"
   ]
  },
  {
   "cell_type": "markdown",
   "metadata": {},
   "source": [
    "* A variable name cannot be enclosed in quotation marks."
   ]
  },
  {
   "cell_type": "code",
   "execution_count": null,
   "metadata": {
    "collapsed": true
   },
   "outputs": [],
   "source": [
    "\"age\" = 25"
   ]
  },
  {
   "cell_type": "markdown",
   "metadata": {},
   "source": [
    "* Can be passed into a function."
   ]
  },
  {
   "cell_type": "code",
   "execution_count": 3,
   "metadata": {
    "collapsed": false
   },
   "outputs": [
    {
     "name": "stdout",
     "output_type": "stream",
     "text": [
      "25\n"
     ]
    }
   ],
   "source": [
    "age = 25\n",
    "print(age)"
   ]
  },
  {
   "cell_type": "markdown",
   "metadata": {},
   "source": [
    "* A variable can be used only after a value has been assigned."
   ]
  },
  {
   "cell_type": "code",
   "execution_count": 4,
   "metadata": {
    "collapsed": false
   },
   "outputs": [
    {
     "ename": "NameError",
     "evalue": "name 'temperature' is not defined",
     "output_type": "error",
     "traceback": [
      "\u001b[0;31m---------------------------------------------------------------------------\u001b[0m",
      "\u001b[0;31mNameError\u001b[0m                                 Traceback (most recent call last)",
      "\u001b[0;32m<ipython-input-4-bc88277184f9>\u001b[0m in \u001b[0;36m<module>\u001b[0;34m()\u001b[0m\n\u001b[0;32m----> 1\u001b[0;31m \u001b[0;32mprint\u001b[0m\u001b[0;34m(\u001b[0m\u001b[0mtemperature\u001b[0m\u001b[0;34m)\u001b[0m\u001b[0;34m\u001b[0m\u001b[0m\n\u001b[0m",
      "\u001b[0;31mNameError\u001b[0m: name 'temperature' is not defined"
     ]
    }
   ],
   "source": [
    "print(temperature)"
   ]
  },
  {
   "cell_type": "code",
   "execution_count": null,
   "metadata": {
    "collapsed": true
   },
   "outputs": [],
   "source": [
    "temperature = 74.5\n",
    "print(tmperature)"
   ]
  },
  {
   "cell_type": "code",
   "execution_count": 5,
   "metadata": {
    "collapsed": false
   },
   "outputs": [
    {
     "name": "stdout",
     "output_type": "stream",
     "text": [
      "I am staying in room number\n",
      "503\n"
     ]
    }
   ],
   "source": [
    "# This program demonstrates a variable\n",
    "room = 503\n",
    "print('I am staying in room number')\n",
    "print(room)"
   ]
  },
  {
   "cell_type": "code",
   "execution_count": 6,
   "metadata": {
    "collapsed": false
   },
   "outputs": [
    {
     "name": "stdout",
     "output_type": "stream",
     "text": [
      "('I am staying in room number', 503)\n",
      "I am staying in room number 503\n",
      "I am staying in room number 503\n",
      "I am staying in room number 503\n",
      "I am staying in room number 503\n"
     ]
    }
   ],
   "source": [
    "room = 503\n",
    "# Using print () is proper Python 3 Syntax\n",
    "# It's acceptable in Python 2\n",
    "print('I am staying in room number', room)\n",
    "\n",
    "# Usual way in Python 2 is without ()\n",
    "# This is not legal in Python 3\n",
    "print 'I am staying in room number', room\n",
    "\n",
    "print('I am staying in room number ' + str(room))\n",
    "\n",
    "# This gives a type error\n",
    "# print('I am staying in room number ' + room)\n",
    "\n",
    "print('I am staying in room number %s') % room\n",
    "\n",
    "print('I am staying in room number'),\n",
    "# In Python 3\n",
    "# print('I am staying in room number', end=\"\")\n",
    "print(room)"
   ]
  },
  {
   "cell_type": "markdown",
   "metadata": {},
   "source": [
    "# Comments\n",
    "\n",
    "* Notes of explanation within a program\n",
    "  - Begin with a # character\n",
    "  - Ignored by Python interpreter\n",
    "  - Intended for people\n",
    " \n",
    "* Meant to help with Rule 2"
   ]
  },
  {
   "cell_type": "code",
   "execution_count": null,
   "metadata": {
    "collapsed": false
   },
   "outputs": [],
   "source": [
    "# This is a Python comment\n",
    "# It's actually pretty similar to a hashtag"
   ]
  },
  {
   "cell_type": "markdown",
   "metadata": {},
   "source": [
    "* In general, comments should provide rationale\n",
    "  - Design decisions or explain why code is a particular way\n",
    "\n",
    "* *Should NOT repeat code*\n",
    "  - Increases work when both must be kept in sync "
   ]
  },
  {
   "cell_type": "markdown",
   "metadata": {},
   "source": [
    "# Variable Naming Rules\n",
    "\n",
    "* Cannot be a Python keyword\n",
    "![Python Keywords](files/images/python_keywords.png)\n",
    "* Cannot contain spaces\n",
    "* First character must be a letter or an underscore\n",
    "* Subsequent characters may use letters, digits, or underscores\n",
    "* Case sensitive\n",
    "\n",
    "**Variable name should reflect its use**\n",
    "\n",
    "**Recommended style for Python is to use nouns separated by underscores**\n",
    "  - called snake case\n",
    "\n"
   ]
  },
  {
   "cell_type": "code",
   "execution_count": null,
   "metadata": {
    "collapsed": true
   },
   "outputs": [],
   "source": [
    "# Are these variable names legal or illegal?\n",
    "units_per_day\n",
    "daysOfWeek\n",
    "3dGraph\n",
    "June1997\n",
    "Mixture%3"
   ]
  },
  {
   "cell_type": "markdown",
   "metadata": {},
   "source": [
    "#Rule 4\n",
    "\n",
    "A foolish consistency is the hobgoblin of little minds."
   ]
  },
  {
   "cell_type": "markdown",
   "metadata": {},
   "source": [
    "# Input\n",
    "\n",
    "* There are a number of ways to specify input to a program.\n",
    "  - As an argument on the command line\n",
    "  - In a file\n",
    "  - From the keyboard\n",
    " \n",
    "\n",
    "* Let's start with the last one.\n",
    "  - *variable = input(prompt)* or *variable = raw_input(prompt)*\n",
    "  - *input()* is a function\n",
    "  - prompt is the string to be displayed on the screen\n",
    "  - variable holds the data input from the keyboard\n"
   ]
  },
  {
   "cell_type": "code",
   "execution_count": 7,
   "metadata": {
    "collapsed": false
   },
   "outputs": [
    {
     "name": "stdout",
     "output_type": "stream",
     "text": [
      "What is your name? Guido van Rossum\n",
      "Guido van Rossum\n"
     ]
    }
   ],
   "source": [
    "name = raw_input('What is your name? ') # For Python 3, use input()\n",
    "print(name)"
   ]
  },
  {
   "cell_type": "markdown",
   "metadata": {},
   "source": [
    "# Exercise: Name and Age\n",
    "\n",
    "Write a program that asks the user for their first name, last name, and age. Print out the names on one line. Print out the age on the next line. Include labels on your output."
   ]
  },
  {
   "cell_type": "code",
   "execution_count": null,
   "metadata": {
    "collapsed": true
   },
   "outputs": [],
   "source": []
  },
  {
   "cell_type": "markdown",
   "metadata": {},
   "source": [
    "# Processing\n",
    "\n",
    "This middle step involves manipulating the input in some way before outputting.\n",
    "\n",
    "Exercise: Jacob Two-Two\n",
    "\n",
    "Write a program that takes a string as input and prints it out twice."
   ]
  },
  {
   "cell_type": "code",
   "execution_count": 8,
   "metadata": {
    "collapsed": false
   },
   "outputs": [
    {
     "name": "stdout",
     "output_type": "stream",
     "text": [
      "What did you say?Cheese, please!\n",
      "Cheese, please! Cheese, please!\n"
     ]
    }
   ],
   "source": [
    "# A program that repeats a user-inputed string twice\n",
    "\n",
    "jacob_said = raw_input(\"What did you say?\")\n",
    "jacob_said = jacob_said + \" \" + jacob_said\n",
    "print(jacob_said)"
   ]
  },
  {
   "cell_type": "markdown",
   "metadata": {},
   "source": [
    "A lot of computer processing involves math, because computers are good with numbers. They're less good with strings.\n",
    "\n",
    "## Math Operators\n",
    "\n",
    "* Addition (+)\n",
    "* Subtraction (-)\n",
    "* Multiplication (*)\n",
    "* Division (/)\n",
    "\n",
    "* Integer division (//)\n",
    "* Remainder or modulo (%)\n",
    "* Exponent (**)"
   ]
  },
  {
   "cell_type": "markdown",
   "metadata": {},
   "source": [
    "## Order of Operations Matter\n",
    "\n",
    "**BEDMAS**\n",
    "\n",
    "* Brackets\n",
    "* Exponents\n",
    "* Division and Multiplication\n",
    "* Addition and Subtraction\n",
    "\n",
    "What do the follow expressions evaluate to?\n",
    "\n",
    "`6 * 3 + 7 * 4`\n",
    "\n",
    "`5 + 3 / 4`\n",
    "\n",
    "`5 - 2 * 3 ** 4`"
   ]
  },
  {
   "cell_type": "code",
   "execution_count": null,
   "metadata": {
    "collapsed": false
   },
   "outputs": [],
   "source": []
  },
  {
   "cell_type": "markdown",
   "metadata": {},
   "source": [
    "#Exercise: Calculate Pay\n",
    "\n",
    "Calculate and display the gross pay for an hourly paid employee"
   ]
  },
  {
   "cell_type": "code",
   "execution_count": null,
   "metadata": {
    "collapsed": false
   },
   "outputs": [],
   "source": [
    "#Input the hours worked\n",
    "#Input the hourly pay\n",
    "#Calculate the gross pay as hours worked multiplied by pay rate\n",
    "#Display the gross pay \n"
   ]
  },
  {
   "cell_type": "markdown",
   "metadata": {},
   "source": [
    "#Exercise: Total Purchase\n",
    "\n",
    "A customer in a store is purchasing five items. Write a program that asks for the price of each item, and then displays the subtotal of the sale, the amount of sales tax, and the total. Assume that the sales tax is 13%."
   ]
  },
  {
   "cell_type": "code",
   "execution_count": null,
   "metadata": {
    "collapsed": false
   },
   "outputs": [],
   "source": []
  }
 ],
 "metadata": {
  "kernelspec": {
   "display_name": "Python 2",
   "language": "python",
   "name": "python2"
  },
  "language_info": {
   "codemirror_mode": {
    "name": "ipython",
    "version": 2
   },
   "file_extension": ".py",
   "mimetype": "text/x-python",
   "name": "python",
   "nbconvert_exporter": "python",
   "pygments_lexer": "ipython2",
   "version": "2.7.10"
  }
 },
 "nbformat": 4,
 "nbformat_minor": 0
}
